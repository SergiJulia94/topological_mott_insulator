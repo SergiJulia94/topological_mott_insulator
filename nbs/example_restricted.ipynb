{
 "cells": [
  {
   "cell_type": "code",
   "execution_count": 1,
   "id": "52e5b0c6",
   "metadata": {},
   "outputs": [],
   "source": [
    "#hide\n",
    "import matplotlib as mpl\n",
    "import numpy as np\n",
    "from os import path, makedirs\n",
    "from copy import copy\n",
    "from math import factorial\n",
    "from matplotlib import pyplot as plt\n",
    "from numpy.random import rand as rnd\n",
    "from numpy import newaxis as nax\n",
    "from numpy import real_if_close as ric\n",
    "from scipy.optimize import brentq\n",
    "from sys import exit as se, argv"
   ]
  },
  {
   "cell_type": "code",
   "execution_count": 2,
   "id": "1eda0a28",
   "metadata": {},
   "outputs": [],
   "source": [
    "#hide\n",
    "from sys import path as syspath\n",
    "syspath.insert(0, '../topological_mott_insulator')\n",
    "from restricted import *\n",
    "from IPython import display"
   ]
  },
  {
   "cell_type": "markdown",
   "id": "9eabb5cf",
   "metadata": {},
   "source": [
    "# Finding MF Hamiltonian ground-states in k-space"
   ]
  },
  {
   "cell_type": "markdown",
   "id": "8e94e7fd",
   "metadata": {},
   "source": [
    "# Fixed-point search, single V1-V2 set"
   ]
  },
  {
   "cell_type": "markdown",
   "id": "91ecd23d",
   "metadata": {},
   "source": [
    "We perform three simple self-consistent runs of the fixed-point search, for different values of V1 and V2.\n",
    "For these values, the system is expected to be, respectively, in a site-nematic insulator, a stripe insulator and in a quantum anomalous Hall phase."
   ]
  },
  {
   "cell_type": "code",
   "execution_count": 3,
   "id": "ccad8c5c",
   "metadata": {},
   "outputs": [
    {
     "name": "stdout",
     "output_type": "stream",
     "text": [
      "Running V0=0.00, V1=5.00, V2=1.00, V3=0.00, V4=0.00\n",
      "Correlation matrix initialized to random complex values.\n",
      "Run concluded. Final number of iterations: 36 out of 100.\n",
      "Correlation gradient: 4e-16\n",
      "Free energy gradient: 2e-15\n",
      "rho0  0\n",
      "rho1  0.5751259494209898\n",
      "rho2  0\n",
      "rho3  0\n",
      "rho4  0.691579283690337\n",
      "xiQAH  0\n",
      "\n"
     ]
    }
   ],
   "source": [
    "# site-nematic phase, finite order parameter \\rho_1 (same order parameter as \\rho_4)\n",
    "MyCl = mfcheckb()\n",
    "V1,V2 = 5,1\n",
    "MyCl.prepare_run(V1=V1,V2=V2)\n",
    "MyCl.fixed_point_method()\n",
    "MyCl.prt_postrun_data()"
   ]
  },
  {
   "cell_type": "code",
   "execution_count": 4,
   "id": "f7ddbc34",
   "metadata": {},
   "outputs": [
    {
     "name": "stdout",
     "output_type": "stream",
     "text": [
      "Running V0=0.00, V1=3.00, V2=4.00, V3=0.00, V4=0.00\n",
      "Correlation matrix initialized to random complex values.\n",
      "Run concluded. Final number of iterations: 31 out of 100.\n",
      "Correlation gradient: 6e-16\n",
      "Free energy gradient: 2e-15\n",
      "rho0  0\n",
      "rho1  0\n",
      "rho2  0.7287935364613348\n",
      "rho3  0\n",
      "rho4  0\n",
      "xiQAH  0\n",
      "\n"
     ]
    }
   ],
   "source": [
    "# string phase, finite order parameter \\rho_2\n",
    "MyCl = mfcheckb()\n",
    "V1,V2 = 3,4\n",
    "MyCl.prepare_run(V1=V1,V2=V2)\n",
    "MyCl.fixed_point_method()\n",
    "MyCl.prt_postrun_data()"
   ]
  },
  {
   "cell_type": "code",
   "execution_count": 5,
   "id": "37f3b7bf",
   "metadata": {},
   "outputs": [
    {
     "name": "stdout",
     "output_type": "stream",
     "text": [
      "Running V0=0.00, V1=2.40, V2=1.60, V3=0.00, V4=0.00\n",
      "Correlation matrix initialized to random complex values.\n",
      "Run concluded. Final number of iterations: 98 out of 100.\n",
      "Correlation gradient: 1e-15\n",
      "Free energy gradient: 7e-15\n",
      "rho0  0\n",
      "rho1  0\n",
      "rho2  0\n",
      "rho3  0\n",
      "rho4  0\n",
      "xiQAH  0.06784674349507666\n",
      "\n"
     ]
    }
   ],
   "source": [
    "# topological phase, finite order parameter xi_{QAH}\n",
    "MyCl = mfcheckb()\n",
    "V1,V2 = 2.4,1.6\n",
    "MyCl.prepare_run(V1=V1,V2=V2)\n",
    "MyCl.fixed_point_method()\n",
    "MyCl.prt_postrun_data()"
   ]
  },
  {
   "cell_type": "code",
   "execution_count": 6,
   "id": "e56f599a",
   "metadata": {},
   "outputs": [
    {
     "name": "stdout",
     "output_type": "stream",
     "text": [
      "Running V0=0.00, V1=2.40, V2=1.60, V3=0.00, V4=0.00\n",
      "Correlation matrix initialized to random complex values.\n",
      "Run concluded. Final number of iterations: 88 out of 100.\n",
      "Correlation gradient: 7e-15\n",
      "Free energy gradient: 7e-15\n",
      "rho0  0\n",
      "rho1  0\n",
      "rho2  0\n",
      "rho3  0\n",
      "rho4  0\n",
      "xiQAH  0.06784674349507665\n",
      "\n"
     ]
    }
   ],
   "source": [
    "# topological phase, finite order parameter xi_{QAH}\n",
    "MyCl = mfcheckb()\n",
    "V1,V2 = 2.4,1.6\n",
    "MyCl.single_run(V1=V1,V2=V2)"
   ]
  },
  {
   "cell_type": "markdown",
   "id": "1496dd6d",
   "metadata": {},
   "source": [
    "# Phase diagram, finite V1 and V2, V3=0"
   ]
  },
  {
   "cell_type": "code",
   "execution_count": 7,
   "id": "7993618f",
   "metadata": {},
   "outputs": [
    {
     "data": {
      "image/png": "[encoded data removed]",
      "text/plain": [
       "<Figure size 288x288 with 1 Axes>"
      ]
     },
     "metadata": {
      "needs_background": "light"
     },
     "output_type": "display_data"
    },
    {
     "data": {
      "text/plain": [
       "None"
      ]
     },
     "metadata": {},
     "output_type": "display_data"
    },
    {
     "data": {
      "text/plain": [
       "' The following two commands integrate all the operations shown above.\\nMyCl.grid_run(Vgrid=Vgrid, V1V2region=V1V2region)\\nMyCl.plot_phasediag_fixedV3(figsize=4, markersize=500).show()\\n'"
      ]
     },
     "execution_count": 7,
     "metadata": {},
     "output_type": "execute_result"
    }
   ],
   "source": [
    "# Run a grid of points in the V1-V2 phase diagram.\n",
    "MyCl = mfcheckb()\n",
    "\n",
    "V3=0.0\n",
    "verbose=False\n",
    "Vgrid=7\n",
    "V1V2region=[2,6,0,4]\n",
    "\n",
    "MyCl.prepare_grid_run(V3=V3, verbose=verbose, Vgrid=Vgrid, V1V2region=V1V2region)\n",
    "Vsarray_pool=MyCl.get_pool()\n",
    "for counter, Vsarray in enumerate(Vsarray_pool):\n",
    "    MyCl.prepare_run(Vsarray=Vsarray, verbose=verbose)\n",
    "    MyCl.fixed_point_method()\n",
    "    MyCl.prt_postrun_data(verbose=verbose)\n",
    "    MyCl.store_grid_data(counter)\n",
    "    MyPlt = MyCl.plot_phasediag_fixedV3(figsize=4, markersize=500)\n",
    "    display.clear_output(wait=True)\n",
    "    display.display(MyPlt.show())\n",
    "\n",
    "# The following two commands integrate all the operations shown above.\n",
    "# MyCl.grid_run(Vgrid=Vgrid, V1V2region=V1V2region)\n",
    "# MyCl.plot_phasediag_fixedV3(figsize=4, markersize=500).show()"
   ]
  },
  {
   "cell_type": "code",
   "execution_count": null,
   "id": "bd0bc27d",
   "metadata": {},
   "outputs": [],
   "source": []
  },
  {
   "cell_type": "markdown",
   "id": "a2bfb520",
   "metadata": {},
   "source": [
    "# Phase diagram, finite V1, V2 and V3."
   ]
  },
  {
   "cell_type": "code",
   "execution_count": 8,
   "id": "56cbec84",
   "metadata": {
    "scrolled": true
   },
   "outputs": [
    {
     "data": {
      "image/png": "[encoded data removed]",
      "text/plain": [
       "<Figure size 288x288 with 1 Axes>"
      ]
     },
     "metadata": {
      "needs_background": "light"
     },
     "output_type": "display_data"
    },
    {
     "data": {
      "text/plain": [
       "None"
      ]
     },
     "metadata": {},
     "output_type": "display_data"
    }
   ],
   "source": [
    "# Run a grid of points in the V1-V2 phase diagram.\n",
    "MyCl = mfcheckb()\n",
    "\n",
    "V3=0.5\n",
    "verbose=False\n",
    "V1V2region=[2,6,0,4]\n",
    "\n",
    "MyCl.prepare_grid_run(V3=V3, verbose=verbose, Vgrid=Vgrid, V1V2region=V1V2region)\n",
    "Vsarray_pool=MyCl.get_pool()\n",
    "for counter, Vsarray in enumerate(Vsarray_pool):\n",
    "    MyCl.prepare_run(Vsarray=Vsarray, verbose=verbose)\n",
    "    MyCl.fixed_point_method()\n",
    "    MyCl.prt_postrun_data(verbose=verbose)\n",
    "    MyCl.store_grid_data(counter)\n",
    "    MyPlt = MyCl.plot_phasediag_fixedV3(figsize=4, markersize=500)\n",
    "    display.clear_output(wait=True)\n",
    "    display.display(MyPlt.show())"
   ]
  },
  {
   "cell_type": "markdown",
   "id": "c747ce8d",
   "metadata": {},
   "source": [
    "# Phase diagram, effective Rydberg potential"
   ]
  },
  {
   "cell_type": "markdown",
   "id": "5c7b4ae7",
   "metadata": {},
   "source": [
    "Phase diagram."
   ]
  },
  {
   "cell_type": "code",
   "execution_count": 9,
   "id": "f2342c81",
   "metadata": {},
   "outputs": [
    {
     "data": {
      "image/png": "[encoded data removed]",
      "text/plain": [
       "<Figure size 345.6x288 with 2 Axes>"
      ]
     },
     "metadata": {
      "needs_background": "light"
     },
     "output_type": "display_data"
    },
    {
     "data": {
      "text/plain": [
       "None"
      ]
     },
     "metadata": {},
     "output_type": "display_data"
    },
    {
     "data": {
      "text/plain": [
       "' The following two commands integrate all the operations shown above.\\nMyCl.grid_run(verbose=verbose, Vgrid=Vgrid, V1V2region=V1V2region, rydberg=rydberg)\\nMyCl.plot_phasediag_rydberg(figsize=4, markersize=500).show()\\n'"
      ]
     },
     "execution_count": 9,
     "metadata": {},
     "output_type": "execute_result"
    }
   ],
   "source": [
    "# Run a grid of points in the V1-V2 phase diagram, with a Rydberg potential profile.\n",
    "MyCl = mfcheckb()\n",
    "\n",
    "verbose=False\n",
    "V1V2region=[2,6,0,4]\n",
    "rydberg=True\n",
    "\n",
    "MyCl.prepare_grid_run(verbose=verbose, Vgrid=Vgrid, V1V2region=V1V2region, rydberg=rydberg)\n",
    "Vsarray_pool=MyCl.get_pool(rydberg=rydberg)\n",
    "for counter, Vsarray in enumerate(Vsarray_pool):\n",
    "    MyCl.prepare_run(rydberg=rydberg, Vsarray=Vsarray, verbose=verbose)\n",
    "    if MyCl.sanity_check(rydberg=rydberg):\n",
    "        MyCl.fixed_point_method()\n",
    "        MyCl.prt_postrun_data(verbose=verbose)\n",
    "    MyCl.store_grid_data(counter)\n",
    "    MyPlt = MyCl.plot_phasediag_rydberg(figsize=4, markersize=700)\n",
    "    display.clear_output(wait=True)\n",
    "    display.display(MyPlt.show())\n",
    "\n",
    "''' The following two commands integrate all the operations shown above.\n",
    "MyCl.grid_run(verbose=verbose, Vgrid=Vgrid, V1V2region=V1V2region, rydberg=rydberg)\n",
    "MyCl.plot_phasediag_rydberg(figsize=4, markersize=500).show()\n",
    "'''"
   ]
  }
 ],
 "metadata": {
  "kernelspec": {
   "display_name": "Python 3 (ipykernel)",
   "language": "python",
   "name": "python3"
  },
  "language_info": {
   "codemirror_mode": {
    "name": "ipython",
    "version": 3
   },
   "file_extension": ".py",
   "mimetype": "text/x-python",
   "name": "python",
   "nbconvert_exporter": "python",
   "pygments_lexer": "ipython3",
   "version": "3.9.7"
  }
 },
 "nbformat": 4,
 "nbformat_minor": 5
}
