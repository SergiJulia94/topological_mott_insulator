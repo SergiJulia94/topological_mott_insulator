{
 "cells": [
  {
   "cell_type": "code",
   "execution_count": 1,
   "metadata": {
    "ExecuteTime": {
     "end_time": "2022-02-11T13:51:27.710084Z",
     "start_time": "2022-02-11T13:51:26.716302Z"
    }
   },
   "outputs": [],
   "source": [
    "#hide\n",
    "from topological_mott_insulator.unrestricted import *\n",
    "from topological_mott_insulator.restricted import *\n",
    "from topological_mott_insulator.utils import *\n",
    "from matplotlib import pyplot as plt\n",
    "from matplotlib import transforms\n",
    "from matplotlib.collections import LineCollection\n",
    "import matplotlib.colors as colors\n",
    "import matplotlib as mpl\n",
    "from scipy.interpolate import interp1d\n",
    "from matplotlib.collections import LineCollection\n",
    "from matplotlib.colors import LinearSegmentedColormap\n",
    "import matplotlib.gridspec as gridspec\n",
    "import numpy as np\n",
    "from fastprogress.fastprogress import progress_bar, master_bar"
   ]
  },
  {
   "cell_type": "markdown",
   "metadata": {},
   "source": [
    "# Welcome to the Topological Mott Insulator toolbox\n",
    "\n",
    "> A Hartree-Fock library to study an interaction-induced Chern Insulator in the checkerboard lattice. <br>\n",
    "\n",
    "> Sergi Julià-Farré and Alexandre Dauphin"
   ]
  },
  {
   "cell_type": "markdown",
   "metadata": {},
   "source": [
    "## Install"
   ]
  },
  {
   "cell_type": "markdown",
   "metadata": {},
   "source": [
    "\n",
    "\n",
    "This project allows to install the library `topological_mott_insulator`.\n",
    "\n",
    "To install locally the library, go to the folder containing the library and run `pip install -e topological_mott_insulator`.\n",
    "\n",
    "The, to call the library, use `from topological_mott_insulator import ...`"
   ]
  },
  {
   "cell_type": "markdown",
   "metadata": {},
   "source": [
    "## Publications\n",
    "This code has been used in \n",
    "- [S. Julià-Farré, M. Müller, M. Lewenstein and A. Dauphin Phys. Rev. Lett. **125**,240601 (2020)](https://doi.org/10.1103/PhysRevLett.125.240601)\n",
    "- [L. Cardarelli, S. Julià-Farré, M. Lewenstein, A. Dauphin and M. Müller, arXiv:xxx]()."
   ]
  }
 ],
 "metadata": {
  "kernelspec": {
   "display_name": "Python 3 (ipykernel)",
   "language": "python",
   "name": "python3"
  },
  "language_info": {
   "codemirror_mode": {
    "name": "ipython",
    "version": 3
   },
   "file_extension": ".py",
   "mimetype": "text/x-python",
   "name": "python",
   "nbconvert_exporter": "python",
   "pygments_lexer": "ipython3",
   "version": "3.8.8"
  }
 },
 "nbformat": 4,
 "nbformat_minor": 4
}
