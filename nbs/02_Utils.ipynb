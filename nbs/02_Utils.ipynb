{
 "cells": [
  {
   "cell_type": "code",
   "execution_count": null,
   "metadata": {},
   "outputs": [],
   "source": [
    "# default_exp utils"
   ]
  },
  {
   "cell_type": "code",
   "execution_count": null,
   "metadata": {},
   "outputs": [],
   "source": [
    "#hide\n",
    "from nbdev.showdoc import *"
   ]
  },
  {
   "cell_type": "code",
   "execution_count": null,
   "metadata": {},
   "outputs": [],
   "source": [
    "#export\n",
    "import numpy as np\n",
    "from matplotlib import pyplot as plt\n",
    "from matplotlib import transforms\n",
    "from matplotlib.collections import LineCollection\n",
    "import matplotlib.colors as colors\n",
    "import matplotlib as mpl\n",
    "from scipy.interpolate import interp1d\n",
    "from matplotlib.collections import LineCollection\n",
    "from matplotlib.colors import LinearSegmentedColormap\n",
    "import matplotlib.gridspec as gridspec\n",
    "from scipy.optimize import brentq,newton"
   ]
  },
  {
   "cell_type": "markdown",
   "metadata": {},
   "source": [
    "# Some useful functions\n",
    "\n",
    "> API details."
   ]
  },
  {
   "cell_type": "code",
   "execution_count": null,
   "metadata": {},
   "outputs": [],
   "source": [
    "#export\n",
    "def numbern(mu_, nn_, beta_, energies_):\n",
    "    e_aux = np.copy(energies_)\n",
    "    e_aux[beta_ * (e_aux - mu_) > 30] = 30 / beta_ + mu_\n",
    "    ferm = 1 / (np.exp(beta_ * (e_aux - mu_)) + 1)\n",
    "    return np.sum(ferm) - nn_"
   ]
  },
  {
   "cell_type": "markdown",
   "metadata": {},
   "source": [
    "The 0's of this function occur when the desired number of particles in the system `nn_` coincides with the number of particles of the system computed from the Fermi distribution that depends on the Hartree-Fock single-particle energies `energies_`, the chemical potential `mu_`, and the inverse temperature `beta_`. It is used to find the chemical potential of the system with the Brent's method."
   ]
  },
  {
   "cell_type": "code",
   "execution_count": null,
   "metadata": {},
   "outputs": [],
   "source": [
    "#export\n",
    "def plot_bonds(vecpos, J_, mf_):\n",
    "    segment = []\n",
    "    color = []\n",
    "    lenght = np.size(J_, 0)\n",
    "    for i1 in np.arange(lenght):\n",
    "        [x1, x2] = [vecpos[J_[i1, 0], 0], vecpos[J_[i1, 1], 0]]\n",
    "        [y1, y2] = [vecpos[J_[i1, 0], 1], vecpos[J_[i1, 1], 1]]\n",
    "        if np.abs(x1 - x2) < 4 and np.abs(y1 - y2) < 4:\n",
    "            segment.append(np.array([(x1, y1), (x2, y2)]))\n",
    "            color.append(mf_[i1])\n",
    "\n",
    "\n",
    "    color = np.array(color)\n",
    "\n",
    "    mini, maxi = min(np.amin(color), 1.01 * np.mean(color), 0.99 * np.mean(color)), max(np.amax(color),\n",
    "                                                                                        1.01 * np.mean(color),\n",
    "                                                                                        0.99 * np.mean(color))\n",
    "    return segment, color, mini, maxi"
   ]
  },
  {
   "cell_type": "markdown",
   "metadata": {},
   "source": [
    "This function plots bond quantities, such as the expectation value of the imaginary part of the hoppings. `vecpos` is an array with shape (L_lattice, 2), containing the x and y positions of the L_lattice lattice points, ordered in a one-dimensional snake-like folding. `J_` is an array with shape (L_bonds, 2). For each of the L_bonds that one wants to plot, it contains the two one-dimensional indeces of the sites connected by the bond, e.g., it can encode nearest-neighbors bonds. `mf_` is a one-dimensional array with shape (L_bonds) containing the value of the quantities that one wants to plot at the L_bonds, e.g., the iomaginary part of the nearest-neighbors hoppings expectation value."
   ]
  },
  {
   "cell_type": "code",
   "execution_count": null,
   "metadata": {},
   "outputs": [],
   "source": [
    "#export\n",
    "def plot_lattice(posx_, posy_, color_, title_):\n",
    "\n",
    "    plt.figure()\n",
    "    plt.scatter(posx_, posy_, c=color_, s=50)\n",
    "    plt.colorbar()\n",
    "    plt.title(title_)\n",
    "    plt.show()\n",
    "    plt.close()"
   ]
  },
  {
   "cell_type": "markdown",
   "metadata": {},
   "source": [
    "This function plots the lattice for given position vectors `posx_`and `posy_`"
   ]
  },
  {
   "cell_type": "code",
   "execution_count": null,
   "metadata": {},
   "outputs": [],
   "source": [
    "#export \n",
    "def Rydberg_v3v4(v1_,v2_):\n",
    "    tau = np.copy(v1_/v2_)\n",
    "    alpha = ((tau-1)/(8-tau))**(1/6)\n",
    "    kappa = v1_*(1+alpha**6)\n",
    "    v3 = kappa*(1/(1+(2*alpha)**6))\n",
    "    v4 = kappa*(1/(1+(np.sqrt(5)*alpha)**6))\n",
    "    return v3, v4"
   ]
  },
  {
   "cell_type": "markdown",
   "metadata": {},
   "source": [
    "This function computes the value of $V_3$ and $V_4$ for fixed $V_1$ and $V_2$, following the Rydberg dressing potential."
   ]
  }
 ],
 "metadata": {
  "kernelspec": {
   "display_name": "Python 3",
   "language": "python",
   "name": "python3"
  },
  "language_info": {
   "codemirror_mode": {
    "name": "ipython",
    "version": 3
   },
   "file_extension": ".py",
   "mimetype": "text/x-python",
   "name": "python",
   "nbconvert_exporter": "python",
   "pygments_lexer": "ipython3",
   "version": "3.7.6"
  }
 },
 "nbformat": 4,
 "nbformat_minor": 4
}
