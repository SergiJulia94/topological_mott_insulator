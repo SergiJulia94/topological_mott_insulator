{
 "cells": [
  {
   "cell_type": "code",
   "execution_count": null,
   "metadata": {},
   "outputs": [],
   "source": [
    "#hide\n",
    "from your_lib.core import *"
   ]
  },
  {
   "cell_type": "markdown",
   "metadata": {},
   "source": [
    "# Project name here\n",
    "\n",
    "> Summary description here."
   ]
  },
  {
   "cell_type": "markdown",
   "metadata": {},
   "source": [
    "This file will become your README and also the index of your documentation."
   ]
  },
  {
   "cell_type": "markdown",
   "metadata": {},
   "source": [
    "## Install"
   ]
  },
  {
   "cell_type": "markdown",
   "metadata": {},
   "source": [
    "`pip install your_project_name`"
   ]
  },
  {
   "cell_type": "markdown",
   "metadata": {},
   "source": [
    "## How to use"
   ]
  },
  {
   "cell_type": "markdown",
   "metadata": {},
   "source": [
    "Fill me in please! Don't forget code examples:"
   ]
  },
  {
   "cell_type": "code",
   "execution_count": 1,
   "metadata": {},
   "outputs": [
    {
     "ename": "NameError",
     "evalue": "name 'checkerboard_lattice_un' is not defined",
     "output_type": "error",
     "traceback": [
      "\u001b[0;31m---------------------------------------------------------------------------\u001b[0m",
      "\u001b[0;31mNameError\u001b[0m                                 Traceback (most recent call last)",
      "\u001b[0;32m<ipython-input-1-283ace9b8665>\u001b[0m in \u001b[0;36m<module>\u001b[0;34m\u001b[0m\n\u001b[1;32m      6\u001b[0m \u001b[0mphix\u001b[0m\u001b[0;34m,\u001b[0m \u001b[0mphiy\u001b[0m \u001b[0;34m=\u001b[0m \u001b[0;36m0.\u001b[0m\u001b[0;34m,\u001b[0m \u001b[0;36m0.\u001b[0m\u001b[0;34m\u001b[0m\u001b[0;34m\u001b[0m\u001b[0m\n\u001b[1;32m      7\u001b[0m \u001b[0;34m\u001b[0m\u001b[0m\n\u001b[0;32m----> 8\u001b[0;31m un_mf = checkerboard_lattice_un(nx=nx,ny=ny,t0=-1, jax=+0.5, jay=-0.5, \n\u001b[0m\u001b[1;32m      9\u001b[0m                                         \u001b[0mjbx\u001b[0m\u001b[0;34m=\u001b[0m\u001b[0;34m-\u001b[0m\u001b[0;36m0.5\u001b[0m\u001b[0;34m,\u001b[0m \u001b[0mjby\u001b[0m\u001b[0;34m=\u001b[0m\u001b[0;34m+\u001b[0m\u001b[0;36m0.5\u001b[0m\u001b[0;34m,\u001b[0m \u001b[0mv1\u001b[0m\u001b[0;34m=\u001b[0m\u001b[0;36m2.5\u001b[0m\u001b[0;34m,\u001b[0m \u001b[0mv2\u001b[0m\u001b[0;34m=\u001b[0m\u001b[0;36m1.5\u001b[0m\u001b[0;34m,\u001b[0m\u001b[0;34m\u001b[0m\u001b[0;34m\u001b[0m\u001b[0m\n\u001b[1;32m     10\u001b[0m \t\t                        beta=100000, cell_filling=cf, phix=0., phiy=0.)\n",
      "\u001b[0;31mNameError\u001b[0m: name 'checkerboard_lattice_un' is not defined"
     ]
    }
   ],
   "source": [
    "nx, ny = 24, 24\n",
    "stagg_m = 0\n",
    "cf = (nx*ny+5)/(nx*ny)\n",
    "t0=-1\n",
    "jax, jay, jbx, jby = +0.5, -0.5, -0.5, +0.5\n",
    "phix, phiy = 0., 0.\n",
    "\n",
    "un_mf = checkerboard_lattice_un(nx=nx,ny=ny,t0=-1, jax=+0.5, jay=-0.5, \n",
    "\t\t                        jbx=-0.5, jby=+0.5, v1=2.5, v2=1.5,\n",
    "\t\t                        beta=100000, cell_filling=cf, phix=0., phiy=0.)\n",
    "\n",
    "re_mf = checkerboard_lattice_4unitcell(nx=nx,ny=ny,t0=-1,jax=+0.5, jay=-0.5, \n",
    "\t\t                        jbx=-0.5, jby=+0.5, v1=2.5, v2=1.5,  \n",
    "\t\t                        beta=100000, cell_filling=cf)\n",
    "\n",
    "for i1 in tqdm(range(0,1000)):\n",
    "        un_mf.iterate_mf(eta=0.6)\n",
    "        re_mf.iterate_mf()\n",
    "\n",
    "for i1 in tqdm(range(0,1000)):\n",
    "        un_mf.iterate_mf(eta=1.)\n",
    "        re_mf.iterate_mf()"
   ]
  },
  {
   "cell_type": "code",
   "execution_count": null,
   "metadata": {},
   "outputs": [],
   "source": [
    "un_mf_aux = un_mf\n",
    "fig  = plt.figure()\n",
    "gs0 = gridspec.GridSpec(1, 1, left=0.12, right=0.75, top=1., bottom=0., wspace=0)\n",
    "gs00 = gridspec.GridSpecFromSubplotSpec(1, 1, subplot_spec=gs0[0], hspace=0., wspace=0.)\n",
    "ax = fig.add_subplot(gs00[0])\n",
    "\n",
    "segment, color, mini, maxi = tools.plot_bonds(un_mf_aux.pos, un_mf_aux.J_nn, np.imag(un_mf_aux.mfhop_nn))\n",
    "ligne = LineCollection(segment,linestyles='solid',\n",
    "                                cmap=plt.get_cmap('RdBu'),\n",
    "                                array=color, norm=plt.Normalize(mini, maxi),\n",
    "                                linewidths=8, rasterized=True)\n",
    " \n",
    "ax.set_xlim(-1,2*un_mf_aux.nx)\n",
    "ax.set_ylim(-1,2*un_mf_aux.ny)\n",
    "ax.add_collection(ligne)\n",
    "ax.set_xlabel(r'$x$')\n",
    "ax.set_ylabel(r'$y$')\n",
    "cbar = fig.add_axes([0.77, 0.2, 0.06, 0.6])\n",
    "fig.colorbar(ligne, cax=cbar)\n",
    "ax.set_aspect('equal')\n",
    "plt.title(r'$\\xi_{AB}^I(j)$')\n",
    "plt.show()"
   ]
  },
  {
   "cell_type": "code",
   "execution_count": null,
   "metadata": {},
   "outputs": [],
   "source": [
    "fig  = plt.figure()\n",
    "gs0 = gridspec.GridSpec(1, 1, left=0.12, right=0.75, top=1., bottom=0., wspace=0)\n",
    "gs00 = gridspec.GridSpecFromSubplotSpec(1, 1, subplot_spec=gs0[0], hspace=0., wspace=0.)\n",
    "ax = fig.add_subplot(gs00[0])\n",
    "\n",
    "segment, color, mini, maxi = tools.plot_bonds(un_mf.pos, un_mf.J_ax, np.imag(un_mf.mfhop_ax))\n",
    "ligne = LineCollection(segment,linestyles='solid',\n",
    "                                cmap=plt.get_cmap('RdBu'),\n",
    "                                array=color, norm=plt.Normalize(mini, maxi),\n",
    "                                linewidths=5, rasterized=True)\n",
    "ax.add_collection(ligne)\n",
    "segment, color, mini, maxi = tools.plot_bonds(un_mf.pos, un_mf.J_ay, -np.imag(un_mf.mfhop_ay))\n",
    "ligne = LineCollection(segment,linestyles='solid',\n",
    "                                cmap=plt.get_cmap('RdBu'),\n",
    "                                array=color, norm=plt.Normalize(mini, maxi),\n",
    "                                linewidths=5, rasterized=True)\n",
    "ax.add_collection(ligne)\n",
    "\n",
    "segment, color, mini, maxi = tools.plot_bonds(un_mf.pos, un_mf.J_bx, -np.imag(un_mf.mfhop_bx))\n",
    "ligne = LineCollection(segment,linestyles='solid',\n",
    "                                cmap=plt.get_cmap('RdBu'),\n",
    "                                array=color, norm=plt.Normalize(mini, maxi),\n",
    "                                linewidths=5, rasterized=True)\n",
    "ax.add_collection(ligne)\n",
    "\n",
    "segment, color, mini, maxi = tools.plot_bonds(un_mf.pos, un_mf.J_by, np.imag(un_mf.mfhop_by))\n",
    "ligne = LineCollection(segment,linestyles='solid',\n",
    "                                cmap=plt.get_cmap('RdBu'),\n",
    "                                array=color, norm=plt.Normalize(mini, maxi),\n",
    "                                linewidths=5, rasterized=True)\n",
    "ax.add_collection(ligne)\n",
    "\n",
    "ax.set_xlim(-1,2*un_mf.nx)\n",
    "ax.set_ylim(-1,2*un_mf.ny)\n",
    "ax.set_xlabel(r'$x$')\n",
    "ax.set_ylabel(r'$y$')\n",
    "cbar = fig.add_axes([0.77, 0.2, 0.06, 0.6])\n",
    "fig.colorbar(ligne, cax=cbar)\n",
    "ax.set_aspect('equal')\n",
    "plt.title(r'$\\xi_{AB}^I(j)$')\n",
    "plt.show()"
   ]
  },
  {
   "cell_type": "code",
   "execution_count": null,
   "metadata": {},
   "outputs": [],
   "source": [
    "fig  = plt.figure()\n",
    "gs0 = gridspec.GridSpec(1, 1, left=0.12, right=0.75, top=1., bottom=0., wspace=0)\n",
    "gs00 = gridspec.GridSpecFromSubplotSpec(1, 1, subplot_spec=gs0[0], hspace=0., wspace=0.)\n",
    "ax = fig.add_subplot(gs00[0])\n",
    "#ax2 = fig.add_subplot(gs00[1])\n",
    "\n",
    "sc = ax.scatter(un_mf.pos[:,0].flatten(),\n",
    "                un_mf.pos[:,1].flatten(), c=np.real(un_mf.mfden),  s=150)\n",
    "ax.set_aspect(aspect='equal')\n",
    "ax.minorticks_on()\n",
    "ax.set_xlim(-1,2*un_mf.nx)\n",
    "ax.set_ylim(-1,2*un_mf.ny)\n",
    "ax.set_xlabel(r'$x$')\n",
    "ax.set_ylabel(r'$y$')\n",
    "cbar = fig.add_axes([0.77, 0., 0.06, 1.])\n",
    "cb1 = fig.colorbar(sc, cax=cbar, orientation='vertical')\n",
    "plt.title(r'$n(j)$')\n",
    "plt.show()"
   ]
  }
 ],
 "metadata": {
  "kernelspec": {
   "display_name": "Python 3",
   "language": "python",
   "name": "python3"
  },
  "language_info": {
   "codemirror_mode": {
    "name": "ipython",
    "version": 3
   },
   "file_extension": ".py",
   "mimetype": "text/x-python",
   "name": "python",
   "nbconvert_exporter": "python",
   "pygments_lexer": "ipython3",
   "version": "3.7.6"
  }
 },
 "nbformat": 4,
 "nbformat_minor": 4
}
