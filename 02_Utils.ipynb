{
 "cells": [
  {
   "cell_type": "code",
   "execution_count": null,
   "metadata": {},
   "outputs": [],
   "source": [
    "# default_exp utils"
   ]
  },
  {
   "cell_type": "code",
   "execution_count": null,
   "metadata": {},
   "outputs": [],
   "source": [
    "#hide\n",
    "from nbdev.showdoc import *"
   ]
  },
  {
   "cell_type": "code",
   "execution_count": null,
   "metadata": {},
   "outputs": [],
   "source": [
    "#export\n",
    "import numpy as np\n",
    "from matplotlib import pyplot as plt\n",
    "from matplotlib import transforms\n",
    "from matplotlib.collections import LineCollection\n",
    "import matplotlib.colors as colors\n",
    "import matplotlib as mpl\n",
    "from scipy.interpolate import interp1d\n",
    "from matplotlib.collections import LineCollection\n",
    "from matplotlib.colors import LinearSegmentedColormap\n",
    "import matplotlib.gridspec as gridspec\n",
    "from scipy.optimize import brentq,newton"
   ]
  },
  {
   "cell_type": "markdown",
   "metadata": {},
   "source": [
    "# Some useful functions\n",
    "\n",
    "> API details."
   ]
  },
  {
   "cell_type": "code",
   "execution_count": null,
   "metadata": {},
   "outputs": [],
   "source": [
    "#export\n",
    "def numbern(mu_, nn_, beta_, energies_):\n",
    "    e_aux = np.copy(energies_)\n",
    "    e_aux[beta_ * (e_aux - mu_) > 30] = 30 / beta_ + mu_\n",
    "    ferm = 1 / (np.exp(beta_ * (e_aux - mu_)) + 1)\n",
    "    return np.sum(ferm) - nn_"
   ]
  },
  {
   "cell_type": "code",
   "execution_count": null,
   "metadata": {},
   "outputs": [],
   "source": [
    "#export\n",
    "def chern(states, mx, my, band):\n",
    "        \n",
    "        J_kx = np.zeros((mx, my, mx, my), dtype=int)\n",
    "        J_ky = np.zeros((mx, my, mx, my), dtype=int)\n",
    "        for ix in range(0, mx):\n",
    "            for iy in range(0, my):\n",
    "                    J_kx[ix, iy, (ix+1)%mx, iy] = 1 \n",
    "                    J_ky[ix, iy, ix, (iy+1)%my] = 1\n",
    "        \n",
    "        J_kx = np.reshape(J_kx, (mx*my,mx*my))\n",
    "        J_kx = np.argwhere(J_kx!=0)\n",
    "        \n",
    "        J_ky = np.reshape(J_ky, (mx*my,mx*my))\n",
    "        J_ky = np.argwhere(J_ky!=0)\n",
    "    \n",
    "        U_up = np.einsum('ijk,ilk->jlk', np.conjugate(states[:, 0:int(band), J_ky[:, 0]]), states[:, 0:int(band), J_ky[:, 1]])\n",
    "        U_right = np.einsum('ijk,ilk->jlk', np.conjugate(states[:, 0:int(band), J_kx[:, 0]]), states[:, 0:int(band), J_kx[:, 1]])\n",
    "    \n",
    "        U_u = np.zeros(mx*my, dtype=complex)\n",
    "        U_r = np.zeros(mx*my, dtype=complex)\n",
    "        \n",
    "        for i1 in range(0, mx*my):\n",
    "            U_u[i1] = np.linalg.det(U_up[:, :, i1])\n",
    "            U_r[i1] = np.linalg.det(U_right[:, :, i1])\n",
    "        \n",
    "        U_u = U_u/np.abs(U_u)\n",
    "        U_r = U_r/np.abs(U_r)\n",
    "        \n",
    "        \n",
    "        U = U_r[J_kx[:,0]] * U_u[J_kx[:,1]] * (U_r[J_ky[:,1]])**(-1) * (U_u[J_kx[:,0]])**(-1)\n",
    "        \n",
    "        F = np.log(U)\n",
    "        chern_band = 1/(2*np.pi*1j)*np.sum(F)\n",
    "        return chern_band, F"
   ]
  },
  {
   "cell_type": "code",
   "execution_count": null,
   "metadata": {},
   "outputs": [],
   "source": [
    "#export\n",
    "def plot_bonds(vecpos, J_, mf_):\n",
    "    segment = []\n",
    "    color = []\n",
    "    lenght = np.size(J_, 0)\n",
    "    for i1 in np.arange(lenght):\n",
    "        [x1, x2] = [vecpos[J_[i1, 0], 0], vecpos[J_[i1, 1], 0]]\n",
    "        [y1, y2] = [vecpos[J_[i1, 0], 1], vecpos[J_[i1, 1], 1]]\n",
    "        if np.abs(x1 - x2) < 4 and np.abs(y1 - y2) < 4:\n",
    "            segment.append(np.array([(x1, y1), (x2, y2)]))\n",
    "            color.append(mf_[i1])\n",
    "        \n",
    "    \n",
    "    color = np.array(color)\n",
    "\n",
    "    mini, maxi = min(np.amin(color), 1.01 * np.mean(color), 0.99 * np.mean(color)), max(np.amax(color),\n",
    "                                                                                        1.01 * np.mean(color),\n",
    "                                                                                        0.99 * np.mean(color))\n",
    "    return segment, color, mini, maxi"
   ]
  },
  {
   "cell_type": "code",
   "execution_count": null,
   "metadata": {},
   "outputs": [],
   "source": [
    "#export\n",
    "def plot_lattice(posx_, posy_, color_, title_):\n",
    "    \n",
    "    plt.figure()\n",
    "    plt.scatter(posx_, posy_, c=color_, s=50)\n",
    "    plt.colorbar()\n",
    "    plt.title(title_)\n",
    "    plt.show()\n",
    "    plt.close()   "
   ]
  },
  {
   "cell_type": "code",
   "execution_count": null,
   "metadata": {},
   "outputs": [],
   "source": [
    "#export \n",
    "def Rydberg_v3v4(v1_,v2_):\n",
    "    tau = np.copy(v1_/v2_)\n",
    "    alpha = ((tau-1)/(8-tau))**(1/6)\n",
    "    kappa = v1_*(1+alpha**6)\n",
    "    v3 = kappa*(1/(1+(2*alpha)**6))\n",
    "    v4 = kappa*(1/(1+(np.sqrt(5)*alpha)**6))\n",
    "    return v3, v4"
   ]
  },
  {
   "cell_type": "code",
   "execution_count": null,
   "metadata": {},
   "outputs": [],
   "source": []
  }
 ],
 "metadata": {
  "kernelspec": {
   "display_name": "Python 3",
   "language": "python",
   "name": "python3"
  }
 },
 "nbformat": 4,
 "nbformat_minor": 4
}
